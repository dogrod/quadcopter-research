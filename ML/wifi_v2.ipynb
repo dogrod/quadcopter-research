{
 "cells": [
  {
   "cell_type": "markdown",
   "metadata": {},
   "source": [
    "# Wi-Fi Network Security Threat Detection Using Machine Learning"
   ]
  },
  {
   "cell_type": "code",
   "execution_count": 1,
   "metadata": {},
   "outputs": [],
   "source": [
    "dataset_directory = \"../datasets/wifi\""
   ]
  },
  {
   "cell_type": "code",
   "execution_count": 2,
   "metadata": {},
   "outputs": [],
   "source": [
    "import pandas as pd\n",
    "import numpy as np\n",
    "import matplotlib.pyplot as plt\n",
    "import seaborn as sns\n",
    "\n",
    "import joblib\n",
    "from datetime import datetime\n",
    "import os\n",
    "from sklearn.ensemble import IsolationForest\n",
    "from sklearn.preprocessing import RobustScaler\n",
    "from sklearn.metrics import (accuracy_score, precision_score, recall_score,\n",
    "                           f1_score, roc_auc_score, precision_recall_curve,\n",
    "                           average_precision_score, confusion_matrix,\n",
    "                           roc_curve, auc, silhouette_score)\n",
    "from sklearn.covariance import EllipticEnvelope\n",
    "from sklearn.svm import OneClassSVM\n",
    "from sklearn.neighbors import LocalOutlierFactor\n",
    "from sklearn.decomposition import PCA\n",
    "\n",
    "# For reproducibility\n",
    "np.random.seed(42)\n"
   ]
  },
  {
   "cell_type": "markdown",
   "metadata": {},
   "source": [
    "## 1. Load CSV Files"
   ]
  },
  {
   "cell_type": "code",
   "execution_count": 3,
   "metadata": {},
   "outputs": [],
   "source": [
    "normal_df = pd.read_csv(f\"{dataset_directory}/normal_output.csv\", low_memory=False)\n",
    "anomaly_df = pd.read_csv(f\"{dataset_directory}/anomaly_filtered.csv\", low_memory=False)"
   ]
  },
  {
   "cell_type": "code",
   "execution_count": 4,
   "metadata": {},
   "outputs": [
    {
     "name": "stdout",
     "output_type": "stream",
     "text": [
      "   frame.time_epoch  frame.time_relative  frame.len  frame.cap_len  \\\n",
      "0      1.729577e+09             0.000000       1363           1363   \n",
      "1      1.729577e+09             0.018642         66             66   \n",
      "2      1.729577e+09             0.111891         54             54   \n",
      "3      1.729577e+09             0.139637         42             42   \n",
      "4      1.729577e+09             0.347460         83             83   \n",
      "\n",
      "   frame.marked              frame.protocols            eth.src  \\\n",
      "0         False  eth:ethertype:ipv6:udp:mdns  02:94:9e:b4:f2:de   \n",
      "1         False         eth:ethertype:ip:tcp  d8:3a:dd:c1:e5:e4   \n",
      "2         False         eth:ethertype:ip:tcp  d8:3a:dd:c1:e5:e4   \n",
      "3         False            eth:ethertype:arp  02:94:9e:b4:f2:de   \n",
      "4         False    eth:ethertype:ip:udp:data  02:94:9e:b4:f2:de   \n",
      "\n",
      "             eth.dst eth.type ip.version  ... udp.srcport udp.dstport  \\\n",
      "0  33:33:00:00:00:fb   0x86dd          6  ...      5353.0      5353.0   \n",
      "1  02:94:9e:b4:f2:de   0x0800          4  ...         NaN         NaN   \n",
      "2  02:94:9e:b4:f2:de   0x0800          4  ...         NaN         NaN   \n",
      "3  ff:ff:ff:ff:ff:ff   0x0806        NaN  ...         NaN         NaN   \n",
      "4  d8:3a:dd:c1:e5:e4   0x0800          4  ...     58578.0      7844.0   \n",
      "\n",
      "  udp.length udp.checksum http.request.method http.request.uri  \\\n",
      "0     1309.0       0xe42b                 NaN              NaN   \n",
      "1        NaN          NaN                 NaN              NaN   \n",
      "2        NaN          NaN                 NaN              NaN   \n",
      "3        NaN          NaN                 NaN              NaN   \n",
      "4       49.0       0x793d                 NaN              NaN   \n",
      "\n",
      "  http.response.code dns.qry.name  \\\n",
      "0                NaN          NaN   \n",
      "1                NaN          NaN   \n",
      "2                NaN          NaN   \n",
      "3                NaN          NaN   \n",
      "4                NaN          NaN   \n",
      "\n",
      "                                       dns.resp.name  _ws.col.protocol  \n",
      "0  _airplay._tcp.local,_raop._tcp.local,DOGROD's ...              MDNS  \n",
      "1                                                NaN               TCP  \n",
      "2                                                NaN               TCP  \n",
      "3                                                NaN               ARP  \n",
      "4                                                NaN               UDP  \n",
      "\n",
      "[5 rows x 41 columns]\n",
      "   frame.time_epoch  frame.time_relative  frame.len  frame.cap_len  \\\n",
      "0      1.733606e+09             5.717093        162            162   \n",
      "1      1.733606e+09             5.718417        162            162   \n",
      "2      1.733606e+09             5.718426        162            162   \n",
      "3      1.733606e+09             5.718430        162            162   \n",
      "4      1.733606e+09             5.718435        162            162   \n",
      "\n",
      "   frame.marked            frame.protocols            eth.src  \\\n",
      "0         False  eth:ethertype:ip:udp:data  cc:5e:f8:70:49:6f   \n",
      "1         False  eth:ethertype:ip:udp:data  cc:5e:f8:70:49:6f   \n",
      "2         False  eth:ethertype:ip:udp:data  cc:5e:f8:70:49:6f   \n",
      "3         False  eth:ethertype:ip:udp:data  cc:5e:f8:70:49:6f   \n",
      "4         False  eth:ethertype:ip:udp:data  cc:5e:f8:70:49:6f   \n",
      "\n",
      "             eth.dst eth.type ip.version  ... udp.srcport udp.dstport  \\\n",
      "0  08:f9:e0:79:ca:2f   0x0800          4  ...     19073.0     14555.0   \n",
      "1  08:f9:e0:79:ca:2f   0x0800          4  ...     18836.0     14555.0   \n",
      "2  08:f9:e0:79:ca:2f   0x0800          4  ...     18837.0     14555.0   \n",
      "3  08:f9:e0:79:ca:2f   0x0800          4  ...     18838.0     14555.0   \n",
      "4  08:f9:e0:79:ca:2f   0x0800          4  ...     18839.0     14555.0   \n",
      "\n",
      "   udp.length  udp.checksum  http.request.method http.request.uri  \\\n",
      "0       128.0        0x3d82                  NaN              NaN   \n",
      "1       128.0        0x3e6f                  NaN              NaN   \n",
      "2       128.0        0x3e6e                  NaN              NaN   \n",
      "3       128.0        0x3e6d                  NaN              NaN   \n",
      "4       128.0        0x3e6c                  NaN              NaN   \n",
      "\n",
      "  http.response.code  dns.qry.name dns.resp.name  _ws.col.protocol  \n",
      "0                NaN           NaN           NaN               UDP  \n",
      "1                NaN           NaN           NaN               UDP  \n",
      "2                NaN           NaN           NaN               UDP  \n",
      "3                NaN           NaN           NaN               UDP  \n",
      "4                NaN           NaN           NaN               UDP  \n",
      "\n",
      "[5 rows x 41 columns]\n",
      "(10551408, 41)\n",
      "(914610, 41)\n",
      "Index(['frame.time_epoch', 'frame.time_relative', 'frame.len', 'frame.cap_len',\n",
      "       'frame.marked', 'frame.protocols', 'eth.src', 'eth.dst', 'eth.type',\n",
      "       'ip.version', 'ip.src', 'ip.dst', 'ip.len', 'ip.ttl', 'ip.proto',\n",
      "       'ip.flags.mf', 'ip.flags.df', 'ip.frag_offset', 'ip.checksum',\n",
      "       'tcp.srcport', 'tcp.dstport', 'tcp.flags', 'tcp.flags.syn',\n",
      "       'tcp.flags.ack', 'tcp.flags.fin', 'tcp.len', 'tcp.stream', 'tcp.seq',\n",
      "       'tcp.ack', 'tcp.window_size', 'tcp.checksum', 'udp.srcport',\n",
      "       'udp.dstport', 'udp.length', 'udp.checksum', 'http.request.method',\n",
      "       'http.request.uri', 'http.response.code', 'dns.qry.name',\n",
      "       'dns.resp.name', '_ws.col.protocol'],\n",
      "      dtype='object')\n",
      "Index(['frame.time_epoch', 'frame.time_relative', 'frame.len', 'frame.cap_len',\n",
      "       'frame.marked', 'frame.protocols', 'eth.src', 'eth.dst', 'eth.type',\n",
      "       'ip.version', 'ip.src', 'ip.dst', 'ip.len', 'ip.ttl', 'ip.proto',\n",
      "       'ip.flags.mf', 'ip.flags.df', 'ip.frag_offset', 'ip.checksum',\n",
      "       'tcp.srcport', 'tcp.dstport', 'tcp.flags', 'tcp.flags.syn',\n",
      "       'tcp.flags.ack', 'tcp.flags.fin', 'tcp.len', 'tcp.stream', 'tcp.seq',\n",
      "       'tcp.ack', 'tcp.window_size', 'tcp.checksum', 'udp.srcport',\n",
      "       'udp.dstport', 'udp.length', 'udp.checksum', 'http.request.method',\n",
      "       'http.request.uri', 'http.response.code', 'dns.qry.name',\n",
      "       'dns.resp.name', '_ws.col.protocol'],\n",
      "      dtype='object')\n"
     ]
    }
   ],
   "source": [
    "# Brief look at the data\n",
    "print(normal_df.head())\n",
    "print(anomaly_df.head())\n",
    "\n",
    "# Check shape of the data\n",
    "print(normal_df.shape)\n",
    "print(anomaly_df.shape)\n",
    "\n",
    "# Output column names\n",
    "print(normal_df.columns)\n",
    "print(anomaly_df.columns)"
   ]
  },
  {
   "cell_type": "code",
   "execution_count": 5,
   "metadata": {},
   "outputs": [],
   "source": [
    "# Label normal data as 0 and anomaly data as 1\n",
    "normal_df['label'] = 0\n",
    "anomaly_df['label'] = 1"
   ]
  },
  {
   "cell_type": "markdown",
   "metadata": {},
   "source": [
    "### Merge DF"
   ]
  },
  {
   "cell_type": "code",
   "execution_count": 6,
   "metadata": {},
   "outputs": [],
   "source": [
    "df = pd.concat([normal_df, anomaly_df], axis=0)\n",
    "\n",
    "df = df.sort_values(by='frame.time_epoch').reset_index(drop=True)"
   ]
  },
  {
   "cell_type": "code",
   "execution_count": 7,
   "metadata": {},
   "outputs": [
    {
     "name": "stdout",
     "output_type": "stream",
     "text": [
      "(11466018, 42)\n",
      "frame.time_epoch              0\n",
      "frame.time_relative           0\n",
      "frame.len                     0\n",
      "frame.cap_len                 0\n",
      "frame.marked                  0\n",
      "frame.protocols               0\n",
      "eth.src                       0\n",
      "eth.dst                       0\n",
      "eth.type                      0\n",
      "ip.version                 3058\n",
      "ip.src                   269638\n",
      "ip.dst                   269638\n",
      "ip.len                   269638\n",
      "ip.ttl                   269638\n",
      "ip.proto                 269638\n",
      "ip.flags.mf              269638\n",
      "ip.flags.df              269638\n",
      "ip.frag_offset           269638\n",
      "ip.checksum              269638\n",
      "tcp.srcport             1854821\n",
      "tcp.dstport             1854821\n",
      "tcp.flags               1854821\n",
      "tcp.flags.syn           1854821\n",
      "tcp.flags.ack           1854821\n",
      "tcp.flags.fin           1854821\n",
      "tcp.len                 1855347\n",
      "tcp.stream              1854821\n",
      "tcp.seq                 1854821\n",
      "tcp.ack                 1854821\n",
      "tcp.window_size         1854821\n",
      "tcp.checksum            1854821\n",
      "udp.srcport             9656829\n",
      "udp.dstport             9656829\n",
      "udp.length              9656829\n",
      "udp.checksum            9656829\n",
      "http.request.method    11465572\n",
      "http.request.uri       11465572\n",
      "http.response.code     11465642\n",
      "dns.qry.name           11423833\n",
      "dns.resp.name          11416189\n",
      "_ws.col.protocol              0\n",
      "label                         0\n",
      "dtype: int64\n"
     ]
    }
   ],
   "source": [
    "print(df.shape)\n",
    "\n",
    "print(df.isna().sum())"
   ]
  },
  {
   "cell_type": "code",
   "execution_count": 8,
   "metadata": {},
   "outputs": [
    {
     "name": "stdout",
     "output_type": "stream",
     "text": [
      "(11466018, 22)\n"
     ]
    }
   ],
   "source": [
    "# Drop columns that redundant or not useful\n",
    "columns_to_drop = [\n",
    "    'frame.time_relative',\n",
    "    'frame.cap_len',\n",
    "    'frame.marked',\n",
    "    'ip.version',\n",
    "    'ip.checksum',\n",
    "    'ip.frag_offset',\n",
    "    'tcp.flags',\n",
    "    'tcp.len',\n",
    "    'tcp.seq',\n",
    "    'tcp.ack',\n",
    "    'tcp.checksum',\n",
    "    'tcp.window_size',\n",
    "    'udp.checksum',\n",
    "    'eth.type',\n",
    "    'http.request.method',\n",
    "    'http.request.uri',\n",
    "    'http.response.code',\n",
    "    'dns.qry.name',\n",
    "    'dns.resp.name',\n",
    "    '_ws.col.protocol'\n",
    "]\n",
    "df = df.drop(columns=columns_to_drop)\n",
    "\n",
    "print(df.shape)"
   ]
  },
  {
   "cell_type": "code",
   "execution_count": 9,
   "metadata": {},
   "outputs": [
    {
     "name": "stdout",
     "output_type": "stream",
     "text": [
      "Index(['frame.time_epoch', 'frame.len', 'frame.protocols', 'eth.src',\n",
      "       'eth.dst', 'ip.src', 'ip.dst', 'ip.len', 'ip.ttl', 'ip.proto',\n",
      "       'ip.flags.mf', 'ip.flags.df', 'tcp.srcport', 'tcp.dstport',\n",
      "       'tcp.flags.syn', 'tcp.flags.ack', 'tcp.flags.fin', 'tcp.stream',\n",
      "       'udp.srcport', 'udp.dstport', 'udp.length', 'label'],\n",
      "      dtype='object')\n"
     ]
    }
   ],
   "source": [
    "print(df.columns)"
   ]
  },
  {
   "cell_type": "markdown",
   "metadata": {},
   "source": [
    "## 2. Preprocessing"
   ]
  },
  {
   "cell_type": "markdown",
   "metadata": {},
   "source": [
    "### A. Convert ip.len, ip.ttl, and ip.proto to Numeric"
   ]
  },
  {
   "cell_type": "code",
   "execution_count": 10,
   "metadata": {},
   "outputs": [],
   "source": [
    "# Columns to convert from object to float\n",
    "float_cols = ['ip.len', 'ip.ttl', 'ip.proto']\n",
    "\n",
    "for col in float_cols:\n",
    "    # Replace comma with dot if any and convert to float\n",
    "    df[col] = df[col].astype(str).str.replace(',', '.', regex=False)\n",
    "    df[col] = pd.to_numeric(df[col], errors='coerce')"
   ]
  },
  {
   "cell_type": "markdown",
   "metadata": {},
   "source": [
    "### B. Convert Flag Columns to Numeric"
   ]
  },
  {
   "cell_type": "code",
   "execution_count": 11,
   "metadata": {},
   "outputs": [
    {
     "name": "stderr",
     "output_type": "stream",
     "text": [
      "<>:6: SyntaxWarning: invalid escape sequence '\\d'\n",
      "<>:6: SyntaxWarning: invalid escape sequence '\\d'\n",
      "/var/folders/vt/19l5xdgn5dqbwvxb6rrxvyyc0000gn/T/ipykernel_90058/2036226983.py:6: SyntaxWarning: invalid escape sequence '\\d'\n",
      "  df[col] = df[col].astype(str).str.extract('(\\d)').astype(float)\n"
     ]
    }
   ],
   "source": [
    "# Flag columns to convert from object to float\n",
    "flag_cols = ['ip.flags.mf', 'ip.flags.df', 'tcp.flags.syn', 'tcp.flags.ack', 'tcp.flags.fin']\n",
    "\n",
    "for col in flag_cols:\n",
    "    # Extract the first digit and convert to float\n",
    "    df[col] = df[col].astype(str).str.extract('(\\d)').astype(float)"
   ]
  },
  {
   "cell_type": "markdown",
   "metadata": {},
   "source": [
    "### C. Handle frame.protocols by Extracting Protocol Features"
   ]
  },
  {
   "cell_type": "code",
   "execution_count": 12,
   "metadata": {},
   "outputs": [],
   "source": [
    "# Define protocols of interest\n",
    "protocols = ['ARP', 'TCP', 'UDP', 'HTTP', 'HTTPS', 'DNS']\n",
    "\n",
    "for proto in protocols:\n",
    "    df[f'protocol_{proto}'] = df['frame.protocols'].apply(lambda x: 1 if proto in str(x).split(':') else 0)\n",
    "\n",
    "# Count of protocols per frame\n",
    "df['protocol_count'] = df['frame.protocols'].apply(lambda x: len(str(x).split(':')))\n",
    "\n",
    "# Drop the original 'frame.protocols' column\n",
    "df = df.drop(columns=['frame.protocols'])"
   ]
  },
  {
   "cell_type": "markdown",
   "metadata": {},
   "source": [
    "### Verify Data Types After Conversion"
   ]
  },
  {
   "cell_type": "code",
   "execution_count": 13,
   "metadata": {},
   "outputs": [
    {
     "name": "stdout",
     "output_type": "stream",
     "text": [
      "\n",
      "Data Types After Conversion:\n",
      "frame.time_epoch    float64\n",
      "frame.len             int64\n",
      "eth.src              object\n",
      "eth.dst              object\n",
      "ip.src               object\n",
      "ip.dst               object\n",
      "ip.len              float64\n",
      "ip.ttl              float64\n",
      "ip.proto            float64\n",
      "ip.flags.mf         float64\n",
      "ip.flags.df         float64\n",
      "tcp.srcport         float64\n",
      "tcp.dstport         float64\n",
      "tcp.flags.syn       float64\n",
      "tcp.flags.ack       float64\n",
      "tcp.flags.fin       float64\n",
      "tcp.stream          float64\n",
      "udp.srcport         float64\n",
      "udp.dstport         float64\n",
      "udp.length          float64\n",
      "label                 int64\n",
      "protocol_ARP          int64\n",
      "protocol_TCP          int64\n",
      "protocol_UDP          int64\n",
      "protocol_HTTP         int64\n",
      "protocol_HTTPS        int64\n",
      "protocol_DNS          int64\n",
      "protocol_count        int64\n",
      "dtype: object\n",
      "\n",
      "Missing Values:\n",
      "frame.time_epoch           0\n",
      "frame.len                  0\n",
      "eth.src                    0\n",
      "eth.dst                    0\n",
      "ip.src                269638\n",
      "ip.dst                269638\n",
      "ip.len                269638\n",
      "ip.ttl                269638\n",
      "ip.proto              269638\n",
      "ip.flags.mf         11466018\n",
      "ip.flags.df         11466018\n",
      "tcp.srcport          1854821\n",
      "tcp.dstport          1854821\n",
      "tcp.flags.syn       11466018\n",
      "tcp.flags.ack       11466018\n",
      "tcp.flags.fin       11466018\n",
      "tcp.stream           1854821\n",
      "udp.srcport          9656829\n",
      "udp.dstport          9656829\n",
      "udp.length           9656829\n",
      "label                      0\n",
      "protocol_ARP               0\n",
      "protocol_TCP               0\n",
      "protocol_UDP               0\n",
      "protocol_HTTP              0\n",
      "protocol_HTTPS             0\n",
      "protocol_DNS               0\n",
      "protocol_count             0\n",
      "dtype: int64\n"
     ]
    }
   ],
   "source": [
    "print(\"\\nData Types After Conversion:\")\n",
    "print(df.dtypes)\n",
    "\n",
    "print(\"\\nMissing Values:\")\n",
    "print(df.isnull().sum())"
   ]
  },
  {
   "cell_type": "markdown",
   "metadata": {},
   "source": [
    "### Handle Missing value"
   ]
  },
  {
   "cell_type": "code",
   "execution_count": 14,
   "metadata": {},
   "outputs": [],
   "source": [
    "from sklearn.impute import SimpleImputer\n",
    "\n",
    "# Handle missing values in 'ip.src' and 'ip.dst'\n",
    "df['ip.src'] = df['ip.src'].fillna('unknown')\n",
    "df['ip.dst'] = df['ip.dst'].fillna('unknown')\n",
    "\n",
    "# Handle missing values in flag columns by setting them to 0\n",
    "for col in flag_cols:\n",
    "    df[col] = df[col].fillna(0)\n",
    "\n",
    "# Define numeric columns for imputation (excluding 'label' and 'segment_id' if exists)\n",
    "numeric_cols = [\n",
    "    'frame.len', 'ip.len', 'ip.ttl', 'ip.proto',\n",
    "    'ip.flags.mf', 'ip.flags.df', 'tcp.srcport',\n",
    "    'tcp.dstport', 'tcp.flags.syn', 'tcp.flags.ack',\n",
    "    'tcp.flags.fin', 'tcp.stream', 'udp.srcport',\n",
    "    'udp.dstport', 'udp.length', 'protocol_ARP',\n",
    "    'protocol_TCP', 'protocol_UDP', 'protocol_HTTP',\n",
    "    'protocol_HTTPS', 'protocol_DNS', 'protocol_count'\n",
    "]\n",
    "\n",
    "# Initialize SimpleImputer with median strategy\n",
    "imputer = SimpleImputer(strategy='median')\n",
    "\n",
    "# Apply imputer to numeric columns\n",
    "df[numeric_cols] = imputer.fit_transform(df[numeric_cols])"
   ]
  },
  {
   "cell_type": "code",
   "execution_count": 15,
   "metadata": {},
   "outputs": [
    {
     "name": "stdout",
     "output_type": "stream",
     "text": [
      "\n",
      "Missing Values:\n",
      "frame.time_epoch    0\n",
      "frame.len           0\n",
      "eth.src             0\n",
      "eth.dst             0\n",
      "ip.src              0\n",
      "ip.dst              0\n",
      "ip.len              0\n",
      "ip.ttl              0\n",
      "ip.proto            0\n",
      "ip.flags.mf         0\n",
      "ip.flags.df         0\n",
      "tcp.srcport         0\n",
      "tcp.dstport         0\n",
      "tcp.flags.syn       0\n",
      "tcp.flags.ack       0\n",
      "tcp.flags.fin       0\n",
      "tcp.stream          0\n",
      "udp.srcport         0\n",
      "udp.dstport         0\n",
      "udp.length          0\n",
      "label               0\n",
      "protocol_ARP        0\n",
      "protocol_TCP        0\n",
      "protocol_UDP        0\n",
      "protocol_HTTP       0\n",
      "protocol_HTTPS      0\n",
      "protocol_DNS        0\n",
      "protocol_count      0\n",
      "dtype: int64\n"
     ]
    }
   ],
   "source": [
    "print(\"\\nMissing Values:\")\n",
    "print(df.isnull().sum())"
   ]
  },
  {
   "cell_type": "markdown",
   "metadata": {},
   "source": [
    "### Calculate segment based on time"
   ]
  },
  {
   "cell_type": "code",
   "execution_count": 16,
   "metadata": {},
   "outputs": [
    {
     "name": "stdout",
     "output_type": "stream",
     "text": [
      "\n",
      "Total Segments Created: 21445\n"
     ]
    }
   ],
   "source": [
    "# Define segmentation parameters\n",
    "max_segment_duration = 0.5  # seconds\n",
    "time_gap_threshold = 0.5     # seconds\n",
    "\n",
    "# Initialize segmentation\n",
    "segment_ids = []\n",
    "current_segment_id = 0\n",
    "segment_start_time = df.iloc[0]['frame.time_epoch']\n",
    "segment_end_time = segment_start_time\n",
    "\n",
    "for index, row in df.iterrows():\n",
    "    current_time = row['frame.time_epoch']\n",
    "    \n",
    "    # Check if current packet exceeds the time gap threshold or the segment duration\n",
    "    if (current_time - segment_end_time > time_gap_threshold) or (current_time - segment_start_time > max_segment_duration):\n",
    "        current_segment_id += 1\n",
    "        segment_start_time = current_time\n",
    "    \n",
    "    segment_ids.append(current_segment_id)\n",
    "    segment_end_time = current_time\n",
    "\n",
    "# Assign segment IDs to the DataFrame\n",
    "df['segment_id'] = segment_ids\n",
    "\n",
    "# Verify segmentation\n",
    "print(\"\\nTotal Segments Created:\", df['segment_id'].nunique())"
   ]
  },
  {
   "cell_type": "markdown",
   "metadata": {},
   "source": [
    "### Split segments into normal-only and mixed segments"
   ]
  },
  {
   "cell_type": "code",
   "execution_count": 17,
   "metadata": {},
   "outputs": [
    {
     "name": "stdout",
     "output_type": "stream",
     "text": [
      "\n",
      "Train Segments: 11632\n",
      "Validation Segments: 4906\n",
      "Test Segments: 4907\n"
     ]
    }
   ],
   "source": [
    "# Group by 'segment_id' and determine if any packet in the segment is an attack\n",
    "segment_labels = df.groupby('segment_id')['label'].max()\n",
    "\n",
    "# Identify normal and anomaly segments\n",
    "normal_segments = segment_labels[segment_labels == 0].index.tolist()\n",
    "anomaly_segments = segment_labels[segment_labels == 1].index.tolist()\n",
    "\n",
    "# Shuffle segments\n",
    "np.random.seed(42)\n",
    "np.random.shuffle(normal_segments)\n",
    "np.random.shuffle(anomaly_segments)\n",
    "\n",
    "# Define split ratios\n",
    "train_size = 0.6\n",
    "val_size = 0.2\n",
    "test_size = 0.2\n",
    "\n",
    "# Calculate number of segments for each set\n",
    "num_train_normal = int(len(normal_segments) * train_size)\n",
    "num_val_normal = int(len(normal_segments) * val_size)\n",
    "\n",
    "num_val_anomaly = int(len(anomaly_segments) * 0.5)  # 50% to validation\n",
    "# Remaining anomaly_segments go to test\n",
    "\n",
    "# Split normal segments\n",
    "train_normal_segments = normal_segments[:num_train_normal]\n",
    "val_normal_segments = normal_segments[num_train_normal:num_train_normal + num_val_normal]\n",
    "test_normal_segments = normal_segments[num_train_normal + num_val_normal:]\n",
    "\n",
    "# Split anomaly segments\n",
    "val_anomaly_segments = anomaly_segments[:num_val_anomaly]\n",
    "test_anomaly_segments = anomaly_segments[num_val_anomaly:]\n",
    "\n",
    "# Combine for each set\n",
    "train_segments = train_normal_segments\n",
    "val_segments = val_normal_segments + val_anomaly_segments\n",
    "test_segments = test_normal_segments + test_anomaly_segments\n",
    "\n",
    "# Create DataFrames\n",
    "train_df = df[df['segment_id'].isin(train_segments)].copy()\n",
    "val_df = df[df['segment_id'].isin(val_segments)].copy()\n",
    "test_df = df[df['segment_id'].isin(test_segments)].copy()\n",
    "\n",
    "# Verify the splits\n",
    "print(\"\\nTrain Segments:\", len(train_segments))\n",
    "print(\"Validation Segments:\", len(val_segments))\n",
    "print(\"Test Segments:\", len(test_segments))"
   ]
  },
  {
   "cell_type": "code",
   "execution_count": 18,
   "metadata": {},
   "outputs": [
    {
     "name": "stdout",
     "output_type": "stream",
     "text": [
      "Train data:\n",
      "(6378549, 29)\n",
      "label\n",
      "0    6378549\n",
      "Name: count, dtype: int64\n",
      "Validation data:\n",
      "(2577198, 29)\n",
      "label\n",
      "0    2092868\n",
      "1     484330\n",
      "Name: count, dtype: int64\n",
      "Test data:\n",
      "(2510271, 29)\n",
      "label\n",
      "0    2079991\n",
      "1     430280\n",
      "Name: count, dtype: int64\n"
     ]
    }
   ],
   "source": [
    "print(\"Train data:\")\n",
    "print(train_df.shape)\n",
    "print(train_df['label'].value_counts())\n",
    "\n",
    "print(\"Validation data:\")\n",
    "print(val_df.shape)\n",
    "print(val_df['label'].value_counts())\n",
    "\n",
    "print(\"Test data:\")\n",
    "print(test_df.shape)\n",
    "print(test_df['label'].value_counts())"
   ]
  },
  {
   "cell_type": "markdown",
   "metadata": {},
   "source": [
    "## Feature Engineering"
   ]
  },
  {
   "cell_type": "markdown",
   "metadata": {},
   "source": [
    "### Frequency Encoding"
   ]
  },
  {
   "cell_type": "code",
   "execution_count": 19,
   "metadata": {},
   "outputs": [],
   "source": [
    "# High-cardinality columns to frequency encode\n",
    "high_cardinality_cols = ['eth.src', 'eth.dst', 'ip.src', 'ip.dst']\n",
    "\n",
    "def frequency_encode(train, val, test, col):\n",
    "    \"\"\"\n",
    "    Frequency encode a categorical column based on training data frequencies.\n",
    "    \"\"\"\n",
    "    freq = train[col].value_counts()\n",
    "    train[col] = train[col].map(freq).fillna(0)\n",
    "    val[col] = val[col].map(freq).fillna(0)\n",
    "    test[col] = test[col].map(freq).fillna(0)\n",
    "\n",
    "# Apply frequency encoding\n",
    "for col in high_cardinality_cols:\n",
    "    frequency_encode(train_df, val_df, test_df, col)"
   ]
  },
  {
   "cell_type": "code",
   "execution_count": 20,
   "metadata": {},
   "outputs": [
    {
     "name": "stdout",
     "output_type": "stream",
     "text": [
      "\n",
      "Data Types After Frequency Encoding:\n",
      "frame.time_epoch    float64\n",
      "frame.len           float64\n",
      "eth.src               int64\n",
      "eth.dst               int64\n",
      "ip.src                int64\n",
      "ip.dst                int64\n",
      "ip.len              float64\n",
      "ip.ttl              float64\n",
      "ip.proto            float64\n",
      "ip.flags.mf         float64\n",
      "ip.flags.df         float64\n",
      "tcp.srcport         float64\n",
      "tcp.dstport         float64\n",
      "tcp.flags.syn       float64\n",
      "tcp.flags.ack       float64\n",
      "tcp.flags.fin       float64\n",
      "tcp.stream          float64\n",
      "udp.srcport         float64\n",
      "udp.dstport         float64\n",
      "udp.length          float64\n",
      "label                 int64\n",
      "protocol_ARP        float64\n",
      "protocol_TCP        float64\n",
      "protocol_UDP        float64\n",
      "protocol_HTTP       float64\n",
      "protocol_HTTPS      float64\n",
      "protocol_DNS        float64\n",
      "protocol_count      float64\n",
      "segment_id            int64\n",
      "dtype: object\n"
     ]
    }
   ],
   "source": [
    "# Check data types after frequency encoding\n",
    "print(\"\\nData Types After Frequency Encoding:\")\n",
    "print(train_df.dtypes)"
   ]
  },
  {
   "cell_type": "code",
   "execution_count": 35,
   "metadata": {},
   "outputs": [
    {
     "name": "stdout",
     "output_type": "stream",
     "text": [
      "Index(['frame.time_epoch', 'frame.len', 'eth.src', 'eth.dst', 'ip.src',\n",
      "       'ip.dst', 'ip.len', 'ip.ttl', 'ip.proto', 'ip.flags.mf', 'ip.flags.df',\n",
      "       'tcp.srcport', 'tcp.dstport', 'tcp.flags.syn', 'tcp.flags.ack',\n",
      "       'tcp.flags.fin', 'tcp.stream', 'udp.srcport', 'udp.dstport',\n",
      "       'udp.length', 'label', 'protocol_ARP', 'protocol_TCP', 'protocol_UDP',\n",
      "       'protocol_HTTP', 'protocol_HTTPS', 'protocol_DNS', 'protocol_count',\n",
      "       'segment_id'],\n",
      "      dtype='object')\n"
     ]
    }
   ],
   "source": [
    "print(df.columns)"
   ]
  },
  {
   "cell_type": "markdown",
   "metadata": {},
   "source": [
    "### Feature Aggregation at Segment Level"
   ]
  },
  {
   "cell_type": "code",
   "execution_count": 21,
   "metadata": {},
   "outputs": [
    {
     "name": "stdout",
     "output_type": "stream",
     "text": [
      "\n",
      "Aggregated Train Features:\n",
      "            frame.len_mean  frame.len_sum  frame.len_max  frame.len_min  \\\n",
      "segment_id                                                                \n",
      "0               167.785714         2349.0         1363.0           42.0   \n",
      "3               498.442623        30405.0         1514.0           42.0   \n",
      "5               157.577778        42546.0          446.0           42.0   \n",
      "6               206.355114        72637.0         1514.0           63.0   \n",
      "7               240.093023        92916.0         1514.0           66.0   \n",
      "\n",
      "            frame.len_std  ip.len_mean  ip.len_sum  ip.len_max  ip.len_min  \\\n",
      "segment_id                                                                   \n",
      "0              344.338871    76.000000      1064.0       144.0        40.0   \n",
      "3              642.621701   465.737705     28410.0      1500.0        52.0   \n",
      "5              127.797352   144.007407     38882.0       432.0        52.0   \n",
      "6              288.503540   188.784091     66452.0      1500.0        49.0   \n",
      "7              351.950467   226.093023     87498.0      1500.0        52.0   \n",
      "\n",
      "            ip.len_std  ...  protocol_HTTP_mean  protocol_HTTPS_sum  \\\n",
      "segment_id              ...                                           \n",
      "0            31.038438  ...                 0.0                 0.0   \n",
      "3           633.313006  ...                 0.0                 0.0   \n",
      "5           127.602193  ...                 0.0                 0.0   \n",
      "6           281.821424  ...                 0.0                 0.0   \n",
      "7           351.950467  ...                 0.0                 0.0   \n",
      "\n",
      "            protocol_HTTPS_mean  protocol_DNS_sum  protocol_DNS_mean  \\\n",
      "segment_id                                                             \n",
      "0                           0.0               0.0                0.0   \n",
      "3                           0.0               0.0                0.0   \n",
      "5                           0.0               0.0                0.0   \n",
      "6                           0.0               0.0                0.0   \n",
      "7                           0.0               0.0                0.0   \n",
      "\n",
      "            protocol_count_mean  protocol_count_sum  protocol_count_max  \\\n",
      "segment_id                                                                \n",
      "0                      4.714286                66.0                 5.0   \n",
      "3                      4.442623               271.0                 5.0   \n",
      "5                      4.566667              1233.0                 5.0   \n",
      "6                      4.610795              1623.0                 5.0   \n",
      "7                      4.865633              1883.0                64.0   \n",
      "\n",
      "            protocol_count_min  protocol_count_std  \n",
      "segment_id                                          \n",
      "0                          3.0            0.611250  \n",
      "3                          3.0            0.533060  \n",
      "5                          3.0            0.503888  \n",
      "6                          4.0            0.488264  \n",
      "7                          4.0            4.296345  \n",
      "\n",
      "[5 rows x 76 columns]\n"
     ]
    }
   ],
   "source": [
    "def segment_aggregation(df):\n",
    "    \"\"\"\n",
    "    Aggregate features at the segment level to capture holistic behavior.\n",
    "    \"\"\"\n",
    "    aggregated = df.groupby('segment_id').agg({\n",
    "        'frame.len': ['mean','sum','max','min','std'],\n",
    "        'ip.len': ['mean','sum','max','min','std'],\n",
    "        'udp.length': ['mean','sum','max','min','std'],\n",
    "        'eth.src': ['nunique','mean','max','min'],\n",
    "        'eth.dst': ['nunique','mean','max','min'],\n",
    "        'ip.src': ['nunique','mean'],\n",
    "        'ip.dst': ['nunique','mean'],\n",
    "        'tcp.dstport': ['nunique','mean','max','min'],\n",
    "        'udp.dstport': ['nunique','mean','max','min'],\n",
    "        'ip.ttl': ['mean','std'],\n",
    "        'ip.proto': ['nunique','mean'],\n",
    "        'tcp.flags.syn': ['sum','mean'],\n",
    "        'tcp.flags.ack': ['sum','mean'],\n",
    "        'tcp.flags.fin': ['sum','mean'],\n",
    "        'tcp.stream': ['nunique','mean'],\n",
    "        'tcp.srcport': ['nunique','mean','max','min'],\n",
    "        'udp.srcport': ['nunique','mean','max','min'],\n",
    "        'ip.flags.mf': ['sum','mean'],\n",
    "        'ip.flags.df': ['sum','mean'],\n",
    "        # Protocol Indicators\n",
    "        'protocol_ARP': ['sum','mean'],\n",
    "        'protocol_TCP': ['sum','mean'],\n",
    "        'protocol_UDP': ['sum','mean'],\n",
    "        'protocol_HTTP': ['sum','mean'],\n",
    "        'protocol_HTTPS': ['sum','mean'],\n",
    "        'protocol_DNS': ['sum','mean'],\n",
    "        'protocol_count': ['mean','sum','max','min','std']\n",
    "    })\n",
    "    # Flatten MultiIndex columns\n",
    "    aggregated.columns = ['_'.join(col).strip() for col in aggregated.columns.values]\n",
    "    return aggregated\n",
    "\n",
    "# Apply aggregation\n",
    "train_agg = segment_aggregation(train_df)\n",
    "val_agg = segment_aggregation(val_df)\n",
    "test_agg = segment_aggregation(test_df)\n",
    "\n",
    "# Display aggregated features\n",
    "print(\"\\nAggregated Train Features:\")\n",
    "print(train_agg.head())"
   ]
  },
  {
   "cell_type": "markdown",
   "metadata": {},
   "source": [
    "### Merge Labels"
   ]
  },
  {
   "cell_type": "code",
   "execution_count": 22,
   "metadata": {},
   "outputs": [
    {
     "name": "stdout",
     "output_type": "stream",
     "text": [
      "\n",
      "Label Distribution:\n",
      "Train - Normal: 11632 Anomaly: 0\n",
      "Validation - Normal: 3877 Anomaly: 1029\n",
      "Test - Normal: 3878 Anomaly: 1029\n"
     ]
    }
   ],
   "source": [
    "# Merge labels by taking the max label in each segment\n",
    "train_labels = train_df.groupby('segment_id')['label'].max()\n",
    "val_labels = val_df.groupby('segment_id')['label'].max()\n",
    "test_labels = test_df.groupby('segment_id')['label'].max()\n",
    "\n",
    "# Convert to NumPy arrays\n",
    "y_train = train_labels.values\n",
    "y_val = val_labels.values\n",
    "y_test = test_labels.values\n",
    "\n",
    "# Display label distribution\n",
    "print(\"\\nLabel Distribution:\")\n",
    "print(\"Train - Normal:\", np.sum(y_train == 0), \"Anomaly:\", np.sum(y_train == 1))\n",
    "print(\"Validation - Normal:\", np.sum(y_val == 0), \"Anomaly:\", np.sum(y_val == 1))\n",
    "print(\"Test - Normal:\", np.sum(y_test == 0), \"Anomaly:\", np.sum(y_test == 1))"
   ]
  },
  {
   "cell_type": "markdown",
   "metadata": {},
   "source": [
    "## Preprocessing Pipeline"
   ]
  },
  {
   "cell_type": "code",
   "execution_count": 23,
   "metadata": {},
   "outputs": [
    {
     "name": "stdout",
     "output_type": "stream",
     "text": [
      "\n",
      "Preprocessing completed. Feature matrices are ready for modeling.\n"
     ]
    }
   ],
   "source": [
    "from sklearn.pipeline import Pipeline\n",
    "from sklearn.impute import SimpleImputer\n",
    "from sklearn.preprocessing import StandardScaler, OneHotEncoder\n",
    "from sklearn.compose import ColumnTransformer\n",
    "\n",
    "numeric_transformer = Pipeline(steps=[\n",
    "    ('imputer', SimpleImputer(strategy='median')),\n",
    "    ('scaler', StandardScaler())\n",
    "])\n",
    "\n",
    "preprocessor_agg = Pipeline(steps=[\n",
    "    ('num', numeric_transformer)\n",
    "])\n",
    "\n",
    "# Fit and transform the aggregated data\n",
    "X_train = preprocessor_agg.fit_transform(train_agg)\n",
    "X_val = preprocessor_agg.transform(val_agg)\n",
    "X_test = preprocessor_agg.transform(test_agg)\n",
    "\n",
    "print(\"\\nPreprocessing completed. Feature matrices are ready for modeling.\")"
   ]
  },
  {
   "cell_type": "markdown",
   "metadata": {},
   "source": [
    "## Model Training"
   ]
  },
  {
   "cell_type": "markdown",
   "metadata": {},
   "source": [
    "### Helper Functions"
   ]
  },
  {
   "cell_type": "code",
   "execution_count": 24,
   "metadata": {},
   "outputs": [],
   "source": [
    "def find_best_threshold(y_true, scores):\n",
    "    \"\"\"\n",
    "    Find the threshold that maximizes the F1 score.\n",
    "    \"\"\"\n",
    "    best_f1 = -1\n",
    "    best_thresh = None\n",
    "    for thresh in np.linspace(scores.min(), scores.max(), 100):\n",
    "        preds = (scores > thresh).astype(int)\n",
    "        f1 = f1_score(y_true, preds)\n",
    "        if f1 > best_f1:\n",
    "            best_f1 = f1\n",
    "            best_thresh = thresh\n",
    "    return best_thresh\n",
    "\n",
    "def evaluate(y_true, y_pred, model_name=\"Model\"):\n",
    "    \"\"\"\n",
    "    Evaluate and print model performance metrics.\n",
    "    \"\"\"\n",
    "    prec = precision_score(y_true, y_pred, zero_division=0)\n",
    "    rec = recall_score(y_true, y_pred, zero_division=0)\n",
    "    f1v = f1_score(y_true, y_pred, zero_division=0)\n",
    "    try:\n",
    "        auc = roc_auc_score(y_true, y_pred)\n",
    "    except:\n",
    "        auc = float('nan')\n",
    "    print(f\"{model_name} - Precision: {prec:.4f}, Recall: {rec:.4f}, F1: {f1v:.4f}, AUC: {auc:.4f}\")\n",
    "    return prec, rec, f1v, auc"
   ]
  },
  {
   "cell_type": "markdown",
   "metadata": {},
   "source": [
    "### 1. Isolation Forest"
   ]
  },
  {
   "cell_type": "code",
   "execution_count": 25,
   "metadata": {},
   "outputs": [
    {
     "name": "stdout",
     "output_type": "stream",
     "text": [
      "\n",
      "Best Isolation Forest Threshold: 0.5977\n",
      "Isolation Forest - Precision: 0.9698, Recall: 0.9971, F1: 0.9832, AUC: 0.9944\n"
     ]
    },
    {
     "data": {
      "text/plain": [
       "(np.float64(0.9697542533081286),\n",
       " np.float64(0.9970845481049563),\n",
       " np.float64(0.9832295160517489),\n",
       " np.float64(0.994416435991622))"
      ]
     },
     "execution_count": 25,
     "metadata": {},
     "output_type": "execute_result"
    }
   ],
   "source": [
    "param_grid_if = {\n",
    "    'n_estimators': [100, 200, 300, 500],\n",
    "    'max_samples': ['auto', 0.8, 0.9],\n",
    "    'max_features': [0.5, 0.75, 1.0],\n",
    "    'contamination': [0.01, 0.05, 0.1]\n",
    "}\n",
    "# Initialize Isolation Forest\n",
    "iso = IsolationForest(\n",
    "    n_estimators=300,\n",
    "    max_samples='auto',\n",
    "    contamination=0.05,  # Adjust based on data\n",
    "    max_features=0.75,\n",
    "    random_state=42\n",
    ")\n",
    "\n",
    "# Train on normal data only\n",
    "iso.fit(X_train[y_train == 0])\n",
    "\n",
    "# Get anomaly scores for validation set\n",
    "iso_val_scores = -iso.score_samples(X_val)\n",
    "\n",
    "# Find the best threshold based on validation set\n",
    "best_iso_thresh = find_best_threshold(y_val, iso_val_scores)\n",
    "print(f\"\\nBest Isolation Forest Threshold: {best_iso_thresh:.4f}\")\n",
    "\n",
    "# Predict on test set\n",
    "iso_test_scores = -iso.score_samples(X_test)\n",
    "iso_preds_test = (iso_test_scores > best_iso_thresh).astype(int)\n",
    "\n",
    "# Evaluate Isolation Forest\n",
    "evaluate(y_test, iso_preds_test, \"Isolation Forest\")"
   ]
  },
  {
   "cell_type": "markdown",
   "metadata": {},
   "source": [
    "## 2. Local Outlier Factor"
   ]
  },
  {
   "cell_type": "code",
   "execution_count": 39,
   "metadata": {},
   "outputs": [
    {
     "name": "stdout",
     "output_type": "stream",
     "text": [
      "\n",
      "Best LOF Threshold: 2.8196\n",
      "Local Outlier Factor - Precision: 0.9316, Recall: 0.6220, F1: 0.7459, AUC: 0.8049, Accuracy: 0.9111\n"
     ]
    },
    {
     "data": {
      "text/plain": [
       "(np.float64(0.9315866084425036),\n",
       " np.float64(0.6219630709426628),\n",
       " np.float64(0.745920745920746),\n",
       " np.float64(0.8049217108194491))"
      ]
     },
     "execution_count": 39,
     "metadata": {},
     "output_type": "execute_result"
    }
   ],
   "source": [
    "# Initialize LOF with novelty=True\n",
    "lof = LocalOutlierFactor(\n",
    "    n_neighbors=35,\n",
    "    algorithm='ball_tree',\n",
    "    leaf_size=30,\n",
    "    metric='minkowski',\n",
    "    contamination=0.05,\n",
    "    novelty=True\n",
    ")\n",
    "\n",
    "# Train LOF on normal data only\n",
    "lof.fit(X_train[y_train == 0])\n",
    "\n",
    "# Get anomaly scores for validation set\n",
    "lof_val_scores = -lof.score_samples(X_val)\n",
    "\n",
    "# Find the best threshold based on validation set\n",
    "best_lof_thresh = find_best_threshold(y_val, lof_val_scores)\n",
    "print(f\"\\nBest LOF Threshold: {best_lof_thresh:.4f}\")\n",
    "\n",
    "# Predict on test set\n",
    "lof_test_scores = -lof.score_samples(X_test)\n",
    "lof_preds_test = (lof_test_scores > best_lof_thresh).astype(int)\n",
    "\n",
    "# Evaluate LOF\n",
    "evaluate(y_test, lof_preds_test, \"Local Outlier Factor\")"
   ]
  },
  {
   "cell_type": "markdown",
   "metadata": {},
   "source": [
    "### 3. Autoencoder"
   ]
  },
  {
   "cell_type": "code",
   "execution_count": 30,
   "metadata": {},
   "outputs": [
    {
     "name": "stdout",
     "output_type": "stream",
     "text": [
      "Epoch 1/100\n",
      "\u001b[1m91/91\u001b[0m \u001b[32m━━━━━━━━━━━━━━━━━━━━\u001b[0m\u001b[37m\u001b[0m \u001b[1m1s\u001b[0m 3ms/step - loss: 0.6478 - val_loss: 0.2925\n",
      "Epoch 2/100\n",
      "\u001b[1m91/91\u001b[0m \u001b[32m━━━━━━━━━━━━━━━━━━━━\u001b[0m\u001b[37m\u001b[0m \u001b[1m0s\u001b[0m 2ms/step - loss: 0.2627 - val_loss: 0.1479\n",
      "Epoch 3/100\n",
      "\u001b[1m91/91\u001b[0m \u001b[32m━━━━━━━━━━━━━━━━━━━━\u001b[0m\u001b[37m\u001b[0m \u001b[1m0s\u001b[0m 2ms/step - loss: 0.1623 - val_loss: 0.1077\n",
      "Epoch 4/100\n",
      "\u001b[1m91/91\u001b[0m \u001b[32m━━━━━━━━━━━━━━━━━━━━\u001b[0m\u001b[37m\u001b[0m \u001b[1m0s\u001b[0m 2ms/step - loss: 0.1083 - val_loss: 0.0904\n",
      "Epoch 5/100\n",
      "\u001b[1m91/91\u001b[0m \u001b[32m━━━━━━━━━━━━━━━━━━━━\u001b[0m\u001b[37m\u001b[0m \u001b[1m0s\u001b[0m 2ms/step - loss: 0.0985 - val_loss: 0.0763\n",
      "Epoch 6/100\n",
      "\u001b[1m91/91\u001b[0m \u001b[32m━━━━━━━━━━━━━━━━━━━━\u001b[0m\u001b[37m\u001b[0m \u001b[1m0s\u001b[0m 2ms/step - loss: 0.0763 - val_loss: 0.0692\n",
      "Epoch 7/100\n",
      "\u001b[1m91/91\u001b[0m \u001b[32m━━━━━━━━━━━━━━━━━━━━\u001b[0m\u001b[37m\u001b[0m \u001b[1m0s\u001b[0m 2ms/step - loss: 0.0704 - val_loss: 0.0594\n",
      "Epoch 8/100\n",
      "\u001b[1m91/91\u001b[0m \u001b[32m━━━━━━━━━━━━━━━━━━━━\u001b[0m\u001b[37m\u001b[0m \u001b[1m0s\u001b[0m 2ms/step - loss: 0.0630 - val_loss: 0.0537\n",
      "Epoch 9/100\n",
      "\u001b[1m91/91\u001b[0m \u001b[32m━━━━━━━━━━━━━━━━━━━━\u001b[0m\u001b[37m\u001b[0m \u001b[1m0s\u001b[0m 2ms/step - loss: 0.0516 - val_loss: 0.0484\n",
      "Epoch 10/100\n",
      "\u001b[1m91/91\u001b[0m \u001b[32m━━━━━━━━━━━━━━━━━━━━\u001b[0m\u001b[37m\u001b[0m \u001b[1m0s\u001b[0m 2ms/step - loss: 0.0478 - val_loss: 0.0436\n",
      "Epoch 11/100\n",
      "\u001b[1m91/91\u001b[0m \u001b[32m━━━━━━━━━━━━━━━━━━━━\u001b[0m\u001b[37m\u001b[0m \u001b[1m0s\u001b[0m 2ms/step - loss: 0.0417 - val_loss: 0.0397\n",
      "Epoch 12/100\n",
      "\u001b[1m91/91\u001b[0m \u001b[32m━━━━━━━━━━━━━━━━━━━━\u001b[0m\u001b[37m\u001b[0m \u001b[1m0s\u001b[0m 2ms/step - loss: 0.0416 - val_loss: 0.0378\n",
      "Epoch 13/100\n",
      "\u001b[1m91/91\u001b[0m \u001b[32m━━━━━━━━━━━━━━━━━━━━\u001b[0m\u001b[37m\u001b[0m \u001b[1m0s\u001b[0m 2ms/step - loss: 0.0359 - val_loss: 0.0368\n",
      "Epoch 14/100\n",
      "\u001b[1m91/91\u001b[0m \u001b[32m━━━━━━━━━━━━━━━━━━━━\u001b[0m\u001b[37m\u001b[0m \u001b[1m0s\u001b[0m 2ms/step - loss: 0.0369 - val_loss: 0.0330\n",
      "Epoch 15/100\n",
      "\u001b[1m91/91\u001b[0m \u001b[32m━━━━━━━━━━━━━━━━━━━━\u001b[0m\u001b[37m\u001b[0m \u001b[1m0s\u001b[0m 2ms/step - loss: 0.0316 - val_loss: 0.0319\n",
      "Epoch 16/100\n",
      "\u001b[1m91/91\u001b[0m \u001b[32m━━━━━━━━━━━━━━━━━━━━\u001b[0m\u001b[37m\u001b[0m \u001b[1m0s\u001b[0m 2ms/step - loss: 0.0323 - val_loss: 0.0298\n",
      "Epoch 17/100\n",
      "\u001b[1m91/91\u001b[0m \u001b[32m━━━━━━━━━━━━━━━━━━━━\u001b[0m\u001b[37m\u001b[0m \u001b[1m0s\u001b[0m 2ms/step - loss: 0.0290 - val_loss: 0.0295\n",
      "Epoch 18/100\n",
      "\u001b[1m91/91\u001b[0m \u001b[32m━━━━━━━━━━━━━━━━━━━━\u001b[0m\u001b[37m\u001b[0m \u001b[1m0s\u001b[0m 2ms/step - loss: 0.0288 - val_loss: 0.0286\n",
      "Epoch 19/100\n",
      "\u001b[1m91/91\u001b[0m \u001b[32m━━━━━━━━━━━━━━━━━━━━\u001b[0m\u001b[37m\u001b[0m \u001b[1m0s\u001b[0m 2ms/step - loss: 0.0269 - val_loss: 0.0259\n",
      "Epoch 20/100\n",
      "\u001b[1m91/91\u001b[0m \u001b[32m━━━━━━━━━━━━━━━━━━━━\u001b[0m\u001b[37m\u001b[0m \u001b[1m0s\u001b[0m 2ms/step - loss: 0.0247 - val_loss: 0.0249\n",
      "Epoch 21/100\n",
      "\u001b[1m91/91\u001b[0m \u001b[32m━━━━━━━━━━━━━━━━━━━━\u001b[0m\u001b[37m\u001b[0m \u001b[1m0s\u001b[0m 2ms/step - loss: 0.0248 - val_loss: 0.0236\n",
      "Epoch 22/100\n",
      "\u001b[1m91/91\u001b[0m \u001b[32m━━━━━━━━━━━━━━━━━━━━\u001b[0m\u001b[37m\u001b[0m \u001b[1m0s\u001b[0m 2ms/step - loss: 0.0241 - val_loss: 0.0236\n",
      "Epoch 23/100\n",
      "\u001b[1m91/91\u001b[0m \u001b[32m━━━━━━━━━━━━━━━━━━━━\u001b[0m\u001b[37m\u001b[0m \u001b[1m0s\u001b[0m 2ms/step - loss: 0.0236 - val_loss: 0.0214\n",
      "Epoch 24/100\n",
      "\u001b[1m91/91\u001b[0m \u001b[32m━━━━━━━━━━━━━━━━━━━━\u001b[0m\u001b[37m\u001b[0m \u001b[1m0s\u001b[0m 2ms/step - loss: 0.0208 - val_loss: 0.0239\n",
      "Epoch 25/100\n",
      "\u001b[1m91/91\u001b[0m \u001b[32m━━━━━━━━━━━━━━━━━━━━\u001b[0m\u001b[37m\u001b[0m \u001b[1m0s\u001b[0m 2ms/step - loss: 0.0225 - val_loss: 0.0210\n",
      "Epoch 26/100\n",
      "\u001b[1m91/91\u001b[0m \u001b[32m━━━━━━━━━━━━━━━━━━━━\u001b[0m\u001b[37m\u001b[0m \u001b[1m0s\u001b[0m 2ms/step - loss: 0.0198 - val_loss: 0.0198\n",
      "Epoch 27/100\n",
      "\u001b[1m91/91\u001b[0m \u001b[32m━━━━━━━━━━━━━━━━━━━━\u001b[0m\u001b[37m\u001b[0m \u001b[1m0s\u001b[0m 2ms/step - loss: 0.0202 - val_loss: 0.0190\n",
      "Epoch 28/100\n",
      "\u001b[1m91/91\u001b[0m \u001b[32m━━━━━━━━━━━━━━━━━━━━\u001b[0m\u001b[37m\u001b[0m \u001b[1m0s\u001b[0m 2ms/step - loss: 0.0189 - val_loss: 0.0186\n",
      "Epoch 29/100\n",
      "\u001b[1m91/91\u001b[0m \u001b[32m━━━━━━━━━━━━━━━━━━━━\u001b[0m\u001b[37m\u001b[0m \u001b[1m0s\u001b[0m 2ms/step - loss: 0.0184 - val_loss: 0.0180\n",
      "Epoch 30/100\n",
      "\u001b[1m91/91\u001b[0m \u001b[32m━━━━━━━━━━━━━━━━━━━━\u001b[0m\u001b[37m\u001b[0m \u001b[1m0s\u001b[0m 2ms/step - loss: 0.0192 - val_loss: 0.0175\n",
      "Epoch 31/100\n",
      "\u001b[1m91/91\u001b[0m \u001b[32m━━━━━━━━━━━━━━━━━━━━\u001b[0m\u001b[37m\u001b[0m \u001b[1m0s\u001b[0m 2ms/step - loss: 0.0166 - val_loss: 0.0171\n",
      "Epoch 32/100\n",
      "\u001b[1m91/91\u001b[0m \u001b[32m━━━━━━━━━━━━━━━━━━━━\u001b[0m\u001b[37m\u001b[0m \u001b[1m0s\u001b[0m 2ms/step - loss: 0.0162 - val_loss: 0.0179\n",
      "Epoch 33/100\n",
      "\u001b[1m91/91\u001b[0m \u001b[32m━━━━━━━━━━━━━━━━━━━━\u001b[0m\u001b[37m\u001b[0m \u001b[1m0s\u001b[0m 2ms/step - loss: 0.0168 - val_loss: 0.0167\n",
      "Epoch 34/100\n",
      "\u001b[1m91/91\u001b[0m \u001b[32m━━━━━━━━━━━━━━━━━━━━\u001b[0m\u001b[37m\u001b[0m \u001b[1m0s\u001b[0m 2ms/step - loss: 0.0161 - val_loss: 0.0157\n",
      "Epoch 35/100\n",
      "\u001b[1m91/91\u001b[0m \u001b[32m━━━━━━━━━━━━━━━━━━━━\u001b[0m\u001b[37m\u001b[0m \u001b[1m0s\u001b[0m 2ms/step - loss: 0.0158 - val_loss: 0.0156\n",
      "Epoch 36/100\n",
      "\u001b[1m91/91\u001b[0m \u001b[32m━━━━━━━━━━━━━━━━━━━━\u001b[0m\u001b[37m\u001b[0m \u001b[1m0s\u001b[0m 2ms/step - loss: 0.0147 - val_loss: 0.0154\n",
      "Epoch 37/100\n",
      "\u001b[1m91/91\u001b[0m \u001b[32m━━━━━━━━━━━━━━━━━━━━\u001b[0m\u001b[37m\u001b[0m \u001b[1m0s\u001b[0m 2ms/step - loss: 0.0149 - val_loss: 0.0158\n",
      "Epoch 38/100\n",
      "\u001b[1m91/91\u001b[0m \u001b[32m━━━━━━━━━━━━━━━━━━━━\u001b[0m\u001b[37m\u001b[0m \u001b[1m0s\u001b[0m 2ms/step - loss: 0.0152 - val_loss: 0.0153\n",
      "Epoch 39/100\n",
      "\u001b[1m91/91\u001b[0m \u001b[32m━━━━━━━━━━━━━━━━━━━━\u001b[0m\u001b[37m\u001b[0m \u001b[1m0s\u001b[0m 2ms/step - loss: 0.0143 - val_loss: 0.0144\n",
      "Epoch 40/100\n",
      "\u001b[1m91/91\u001b[0m \u001b[32m━━━━━━━━━━━━━━━━━━━━\u001b[0m\u001b[37m\u001b[0m \u001b[1m0s\u001b[0m 2ms/step - loss: 0.0136 - val_loss: 0.0143\n",
      "Epoch 41/100\n",
      "\u001b[1m91/91\u001b[0m \u001b[32m━━━━━━━━━━━━━━━━━━━━\u001b[0m\u001b[37m\u001b[0m \u001b[1m0s\u001b[0m 2ms/step - loss: 0.0135 - val_loss: 0.0136\n",
      "Epoch 42/100\n",
      "\u001b[1m91/91\u001b[0m \u001b[32m━━━━━━━━━━━━━━━━━━━━\u001b[0m\u001b[37m\u001b[0m \u001b[1m0s\u001b[0m 2ms/step - loss: 0.0136 - val_loss: 0.0137\n",
      "Epoch 43/100\n",
      "\u001b[1m91/91\u001b[0m \u001b[32m━━━━━━━━━━━━━━━━━━━━\u001b[0m\u001b[37m\u001b[0m \u001b[1m0s\u001b[0m 2ms/step - loss: 0.0127 - val_loss: 0.0137\n",
      "Epoch 44/100\n",
      "\u001b[1m91/91\u001b[0m \u001b[32m━━━━━━━━━━━━━━━━━━━━\u001b[0m\u001b[37m\u001b[0m \u001b[1m0s\u001b[0m 2ms/step - loss: 0.0138 - val_loss: 0.0129\n",
      "Epoch 45/100\n",
      "\u001b[1m91/91\u001b[0m \u001b[32m━━━━━━━━━━━━━━━━━━━━\u001b[0m\u001b[37m\u001b[0m \u001b[1m0s\u001b[0m 2ms/step - loss: 0.0121 - val_loss: 0.0127\n",
      "Epoch 46/100\n",
      "\u001b[1m91/91\u001b[0m \u001b[32m━━━━━━━━━━━━━━━━━━━━\u001b[0m\u001b[37m\u001b[0m \u001b[1m0s\u001b[0m 2ms/step - loss: 0.0128 - val_loss: 0.0129\n",
      "Epoch 47/100\n",
      "\u001b[1m91/91\u001b[0m \u001b[32m━━━━━━━━━━━━━━━━━━━━\u001b[0m\u001b[37m\u001b[0m \u001b[1m0s\u001b[0m 2ms/step - loss: 0.0121 - val_loss: 0.0134\n",
      "Epoch 48/100\n",
      "\u001b[1m91/91\u001b[0m \u001b[32m━━━━━━━━━━━━━━━━━━━━\u001b[0m\u001b[37m\u001b[0m \u001b[1m0s\u001b[0m 2ms/step - loss: 0.0123 - val_loss: 0.0121\n",
      "Epoch 49/100\n",
      "\u001b[1m91/91\u001b[0m \u001b[32m━━━━━━━━━━━━━━━━━━━━\u001b[0m\u001b[37m\u001b[0m \u001b[1m0s\u001b[0m 2ms/step - loss: 0.0121 - val_loss: 0.0117\n",
      "Epoch 50/100\n",
      "\u001b[1m91/91\u001b[0m \u001b[32m━━━━━━━━━━━━━━━━━━━━\u001b[0m\u001b[37m\u001b[0m \u001b[1m0s\u001b[0m 2ms/step - loss: 0.0116 - val_loss: 0.0132\n",
      "Epoch 51/100\n",
      "\u001b[1m91/91\u001b[0m \u001b[32m━━━━━━━━━━━━━━━━━━━━\u001b[0m\u001b[37m\u001b[0m \u001b[1m0s\u001b[0m 2ms/step - loss: 0.0114 - val_loss: 0.0124\n",
      "Epoch 52/100\n",
      "\u001b[1m91/91\u001b[0m \u001b[32m━━━━━━━━━━━━━━━━━━━━\u001b[0m\u001b[37m\u001b[0m \u001b[1m0s\u001b[0m 2ms/step - loss: 0.0112 - val_loss: 0.0116\n",
      "Epoch 53/100\n",
      "\u001b[1m91/91\u001b[0m \u001b[32m━━━━━━━━━━━━━━━━━━━━\u001b[0m\u001b[37m\u001b[0m \u001b[1m0s\u001b[0m 2ms/step - loss: 0.0110 - val_loss: 0.0112\n",
      "Epoch 54/100\n",
      "\u001b[1m91/91\u001b[0m \u001b[32m━━━━━━━━━━━━━━━━━━━━\u001b[0m\u001b[37m\u001b[0m \u001b[1m0s\u001b[0m 2ms/step - loss: 0.0100 - val_loss: 0.0108\n",
      "Epoch 55/100\n",
      "\u001b[1m91/91\u001b[0m \u001b[32m━━━━━━━━━━━━━━━━━━━━\u001b[0m\u001b[37m\u001b[0m \u001b[1m0s\u001b[0m 2ms/step - loss: 0.0102 - val_loss: 0.0114\n",
      "Epoch 56/100\n",
      "\u001b[1m91/91\u001b[0m \u001b[32m━━━━━━━━━━━━━━━━━━━━\u001b[0m\u001b[37m\u001b[0m \u001b[1m0s\u001b[0m 2ms/step - loss: 0.0106 - val_loss: 0.0110\n",
      "Epoch 57/100\n",
      "\u001b[1m91/91\u001b[0m \u001b[32m━━━━━━━━━━━━━━━━━━━━\u001b[0m\u001b[37m\u001b[0m \u001b[1m0s\u001b[0m 2ms/step - loss: 0.0104 - val_loss: 0.0110\n",
      "Epoch 58/100\n",
      "\u001b[1m91/91\u001b[0m \u001b[32m━━━━━━━━━━━━━━━━━━━━\u001b[0m\u001b[37m\u001b[0m \u001b[1m0s\u001b[0m 2ms/step - loss: 0.0099 - val_loss: 0.0121\n",
      "Epoch 59/100\n",
      "\u001b[1m91/91\u001b[0m \u001b[32m━━━━━━━━━━━━━━━━━━━━\u001b[0m\u001b[37m\u001b[0m \u001b[1m0s\u001b[0m 2ms/step - loss: 0.0115 - val_loss: 0.0106\n",
      "Epoch 60/100\n",
      "\u001b[1m91/91\u001b[0m \u001b[32m━━━━━━━━━━━━━━━━━━━━\u001b[0m\u001b[37m\u001b[0m \u001b[1m0s\u001b[0m 2ms/step - loss: 0.0099 - val_loss: 0.0121\n",
      "Epoch 61/100\n",
      "\u001b[1m91/91\u001b[0m \u001b[32m━━━━━━━━━━━━━━━━━━━━\u001b[0m\u001b[37m\u001b[0m \u001b[1m0s\u001b[0m 2ms/step - loss: 0.0108 - val_loss: 0.0103\n",
      "Epoch 62/100\n",
      "\u001b[1m91/91\u001b[0m \u001b[32m━━━━━━━━━━━━━━━━━━━━\u001b[0m\u001b[37m\u001b[0m \u001b[1m0s\u001b[0m 2ms/step - loss: 0.0092 - val_loss: 0.0107\n",
      "Epoch 63/100\n",
      "\u001b[1m91/91\u001b[0m \u001b[32m━━━━━━━━━━━━━━━━━━━━\u001b[0m\u001b[37m\u001b[0m \u001b[1m0s\u001b[0m 2ms/step - loss: 0.0101 - val_loss: 0.0100\n",
      "Epoch 64/100\n",
      "\u001b[1m91/91\u001b[0m \u001b[32m━━━━━━━━━━━━━━━━━━━━\u001b[0m\u001b[37m\u001b[0m \u001b[1m0s\u001b[0m 2ms/step - loss: 0.0093 - val_loss: 0.0105\n",
      "Epoch 65/100\n",
      "\u001b[1m91/91\u001b[0m \u001b[32m━━━━━━━━━━━━━━━━━━━━\u001b[0m\u001b[37m\u001b[0m \u001b[1m0s\u001b[0m 2ms/step - loss: 0.0095 - val_loss: 0.0107\n",
      "Epoch 66/100\n",
      "\u001b[1m91/91\u001b[0m \u001b[32m━━━━━━━━━━━━━━━━━━━━\u001b[0m\u001b[37m\u001b[0m \u001b[1m0s\u001b[0m 2ms/step - loss: 0.0089 - val_loss: 0.0111\n",
      "Epoch 67/100\n",
      "\u001b[1m91/91\u001b[0m \u001b[32m━━━━━━━━━━━━━━━━━━━━\u001b[0m\u001b[37m\u001b[0m \u001b[1m0s\u001b[0m 2ms/step - loss: 0.0107 - val_loss: 0.0102\n",
      "Epoch 68/100\n",
      "\u001b[1m91/91\u001b[0m \u001b[32m━━━━━━━━━━━━━━━━━━━━\u001b[0m\u001b[37m\u001b[0m \u001b[1m0s\u001b[0m 2ms/step - loss: 0.0102 - val_loss: 0.0095\n",
      "Epoch 69/100\n",
      "\u001b[1m91/91\u001b[0m \u001b[32m━━━━━━━━━━━━━━━━━━━━\u001b[0m\u001b[37m\u001b[0m \u001b[1m0s\u001b[0m 2ms/step - loss: 0.0083 - val_loss: 0.0093\n",
      "Epoch 70/100\n",
      "\u001b[1m91/91\u001b[0m \u001b[32m━━━━━━━━━━━━━━━━━━━━\u001b[0m\u001b[37m\u001b[0m \u001b[1m0s\u001b[0m 2ms/step - loss: 0.0083 - val_loss: 0.0106\n",
      "Epoch 71/100\n",
      "\u001b[1m91/91\u001b[0m \u001b[32m━━━━━━━━━━━━━━━━━━━━\u001b[0m\u001b[37m\u001b[0m \u001b[1m0s\u001b[0m 3ms/step - loss: 0.0096 - val_loss: 0.0091\n",
      "Epoch 72/100\n",
      "\u001b[1m91/91\u001b[0m \u001b[32m━━━━━━━━━━━━━━━━━━━━\u001b[0m\u001b[37m\u001b[0m \u001b[1m0s\u001b[0m 2ms/step - loss: 0.0083 - val_loss: 0.0090\n",
      "Epoch 73/100\n",
      "\u001b[1m91/91\u001b[0m \u001b[32m━━━━━━━━━━━━━━━━━━━━\u001b[0m\u001b[37m\u001b[0m \u001b[1m0s\u001b[0m 2ms/step - loss: 0.0080 - val_loss: 0.0091\n",
      "Epoch 74/100\n",
      "\u001b[1m91/91\u001b[0m \u001b[32m━━━━━━━━━━━━━━━━━━━━\u001b[0m\u001b[37m\u001b[0m \u001b[1m0s\u001b[0m 2ms/step - loss: 0.0082 - val_loss: 0.0090\n",
      "Epoch 75/100\n",
      "\u001b[1m91/91\u001b[0m \u001b[32m━━━━━━━━━━━━━━━━━━━━\u001b[0m\u001b[37m\u001b[0m \u001b[1m0s\u001b[0m 2ms/step - loss: 0.0077 - val_loss: 0.0113\n",
      "Epoch 76/100\n",
      "\u001b[1m91/91\u001b[0m \u001b[32m━━━━━━━━━━━━━━━━━━━━\u001b[0m\u001b[37m\u001b[0m \u001b[1m0s\u001b[0m 2ms/step - loss: 0.0092 - val_loss: 0.0086\n",
      "Epoch 77/100\n",
      "\u001b[1m91/91\u001b[0m \u001b[32m━━━━━━━━━━━━━━━━━━━━\u001b[0m\u001b[37m\u001b[0m \u001b[1m0s\u001b[0m 2ms/step - loss: 0.0082 - val_loss: 0.0087\n",
      "Epoch 78/100\n",
      "\u001b[1m91/91\u001b[0m \u001b[32m━━━━━━━━━━━━━━━━━━━━\u001b[0m\u001b[37m\u001b[0m \u001b[1m0s\u001b[0m 2ms/step - loss: 0.0076 - val_loss: 0.0091\n",
      "Epoch 79/100\n",
      "\u001b[1m91/91\u001b[0m \u001b[32m━━━━━━━━━━━━━━━━━━━━\u001b[0m\u001b[37m\u001b[0m \u001b[1m0s\u001b[0m 2ms/step - loss: 0.0093 - val_loss: 0.0090\n",
      "Epoch 80/100\n",
      "\u001b[1m91/91\u001b[0m \u001b[32m━━━━━━━━━━━━━━━━━━━━\u001b[0m\u001b[37m\u001b[0m \u001b[1m0s\u001b[0m 2ms/step - loss: 0.0081 - val_loss: 0.0085\n",
      "Epoch 81/100\n",
      "\u001b[1m91/91\u001b[0m \u001b[32m━━━━━━━━━━━━━━━━━━━━\u001b[0m\u001b[37m\u001b[0m \u001b[1m0s\u001b[0m 2ms/step - loss: 0.0074 - val_loss: 0.0095\n",
      "Epoch 82/100\n",
      "\u001b[1m91/91\u001b[0m \u001b[32m━━━━━━━━━━━━━━━━━━━━\u001b[0m\u001b[37m\u001b[0m \u001b[1m0s\u001b[0m 2ms/step - loss: 0.0095 - val_loss: 0.0109\n",
      "Epoch 83/100\n",
      "\u001b[1m91/91\u001b[0m \u001b[32m━━━━━━━━━━━━━━━━━━━━\u001b[0m\u001b[37m\u001b[0m \u001b[1m0s\u001b[0m 2ms/step - loss: 0.0087 - val_loss: 0.0083\n",
      "Epoch 84/100\n",
      "\u001b[1m91/91\u001b[0m \u001b[32m━━━━━━━━━━━━━━━━━━━━\u001b[0m\u001b[37m\u001b[0m \u001b[1m0s\u001b[0m 2ms/step - loss: 0.0075 - val_loss: 0.0083\n",
      "Epoch 85/100\n",
      "\u001b[1m91/91\u001b[0m \u001b[32m━━━━━━━━━━━━━━━━━━━━\u001b[0m\u001b[37m\u001b[0m \u001b[1m0s\u001b[0m 2ms/step - loss: 0.0076 - val_loss: 0.0079\n",
      "Epoch 86/100\n",
      "\u001b[1m91/91\u001b[0m \u001b[32m━━━━━━━━━━━━━━━━━━━━\u001b[0m\u001b[37m\u001b[0m \u001b[1m0s\u001b[0m 2ms/step - loss: 0.0073 - val_loss: 0.0080\n",
      "Epoch 87/100\n",
      "\u001b[1m91/91\u001b[0m \u001b[32m━━━━━━━━━━━━━━━━━━━━\u001b[0m\u001b[37m\u001b[0m \u001b[1m0s\u001b[0m 2ms/step - loss: 0.0075 - val_loss: 0.0085\n",
      "Epoch 88/100\n",
      "\u001b[1m91/91\u001b[0m \u001b[32m━━━━━━━━━━━━━━━━━━━━\u001b[0m\u001b[37m\u001b[0m \u001b[1m0s\u001b[0m 2ms/step - loss: 0.0078 - val_loss: 0.0087\n",
      "Epoch 89/100\n",
      "\u001b[1m91/91\u001b[0m \u001b[32m━━━━━━━━━━━━━━━━━━━━\u001b[0m\u001b[37m\u001b[0m \u001b[1m0s\u001b[0m 2ms/step - loss: 0.0071 - val_loss: 0.0083\n",
      "Epoch 90/100\n",
      "\u001b[1m91/91\u001b[0m \u001b[32m━━━━━━━━━━━━━━━━━━━━\u001b[0m\u001b[37m\u001b[0m \u001b[1m0s\u001b[0m 2ms/step - loss: 0.0070 - val_loss: 0.0086\n",
      "Epoch 91/100\n",
      "\u001b[1m91/91\u001b[0m \u001b[32m━━━━━━━━━━━━━━━━━━━━\u001b[0m\u001b[37m\u001b[0m \u001b[1m0s\u001b[0m 2ms/step - loss: 0.0070 - val_loss: 0.0081\n",
      "Epoch 92/100\n",
      "\u001b[1m91/91\u001b[0m \u001b[32m━━━━━━━━━━━━━━━━━━━━\u001b[0m\u001b[37m\u001b[0m \u001b[1m0s\u001b[0m 2ms/step - loss: 0.0069 - val_loss: 0.0077\n",
      "Epoch 93/100\n",
      "\u001b[1m91/91\u001b[0m \u001b[32m━━━━━━━━━━━━━━━━━━━━\u001b[0m\u001b[37m\u001b[0m \u001b[1m0s\u001b[0m 2ms/step - loss: 0.0067 - val_loss: 0.0075\n",
      "Epoch 94/100\n",
      "\u001b[1m91/91\u001b[0m \u001b[32m━━━━━━━━━━━━━━━━━━━━\u001b[0m\u001b[37m\u001b[0m \u001b[1m0s\u001b[0m 2ms/step - loss: 0.0072 - val_loss: 0.0075\n",
      "Epoch 95/100\n",
      "\u001b[1m91/91\u001b[0m \u001b[32m━━━━━━━━━━━━━━━━━━━━\u001b[0m\u001b[37m\u001b[0m \u001b[1m0s\u001b[0m 2ms/step - loss: 0.0067 - val_loss: 0.0077\n",
      "Epoch 96/100\n",
      "\u001b[1m91/91\u001b[0m \u001b[32m━━━━━━━━━━━━━━━━━━━━\u001b[0m\u001b[37m\u001b[0m \u001b[1m0s\u001b[0m 2ms/step - loss: 0.0085 - val_loss: 0.0085\n",
      "Epoch 97/100\n",
      "\u001b[1m91/91\u001b[0m \u001b[32m━━━━━━━━━━━━━━━━━━━━\u001b[0m\u001b[37m\u001b[0m \u001b[1m0s\u001b[0m 2ms/step - loss: 0.0071 - val_loss: 0.0075\n",
      "Epoch 98/100\n",
      "\u001b[1m91/91\u001b[0m \u001b[32m━━━━━━━━━━━━━━━━━━━━\u001b[0m\u001b[37m\u001b[0m \u001b[1m0s\u001b[0m 2ms/step - loss: 0.0072 - val_loss: 0.0079\n",
      "Epoch 99/100\n",
      "\u001b[1m91/91\u001b[0m \u001b[32m━━━━━━━━━━━━━━━━━━━━\u001b[0m\u001b[37m\u001b[0m \u001b[1m0s\u001b[0m 2ms/step - loss: 0.0071 - val_loss: 0.0078\n",
      "Epoch 100/100\n",
      "\u001b[1m91/91\u001b[0m \u001b[32m━━━━━━━━━━━━━━━━━━━━\u001b[0m\u001b[37m\u001b[0m \u001b[1m0s\u001b[0m 2ms/step - loss: 0.0063 - val_loss: 0.0072\n"
     ]
    }
   ],
   "source": [
    "from tensorflow.keras.models import Sequential\n",
    "from tensorflow.keras import layers, optimizers\n",
    "from tensorflow.keras.callbacks import EarlyStopping\n",
    "\n",
    "# Define Autoencoder architecture\n",
    "input_dim = X_train.shape[1]\n",
    "encoding_dim = 32  # Adjust based on data complexity\n",
    "\n",
    "autoencoder = Sequential([\n",
    "    layers.Input(shape=(input_dim,)),\n",
    "    layers.Dense(128, activation='relu'),\n",
    "    layers.Dense(64, activation='relu'),\n",
    "    layers.Dense(encoding_dim, activation='relu'),\n",
    "    layers.Dense(64, activation='relu'),\n",
    "    layers.Dense(128, activation='relu'),\n",
    "    layers.Dense(input_dim, activation='linear')\n",
    "])\n",
    "\n",
    "autoencoder.compile(optimizer=optimizers.Adam(learning_rate=0.0005), loss='mse')\n",
    "\n",
    "# Early stopping to prevent overfitting\n",
    "early_stop = EarlyStopping(monitor='val_loss', patience=10, restore_best_weights=True)\n",
    "\n",
    "# Train Autoencoder on normal data only\n",
    "X_train_norm = X_train[y_train == 0]\n",
    "X_val_norm = X_val[y_val == 0]\n",
    "\n",
    "history = autoencoder.fit(\n",
    "    X_train_norm, X_train_norm,\n",
    "    epochs=100,\n",
    "    batch_size=128,\n",
    "    shuffle=True,\n",
    "    validation_data=(X_val_norm, X_val_norm),\n",
    "    callbacks=[early_stop],\n",
    "    verbose=1\n",
    ")"
   ]
  },
  {
   "cell_type": "code",
   "execution_count": 32,
   "metadata": {},
   "outputs": [
    {
     "data": {
      "image/png": "[encoded data removed]",
      "text/plain": [
       "<Figure size 1000x600 with 1 Axes>"
      ]
     },
     "metadata": {},
     "output_type": "display_data"
    }
   ],
   "source": [
    "# Plot training & validation loss values\n",
    "plt.figure(figsize=(10,6))\n",
    "plt.plot(history.history['loss'], label='Train Loss')\n",
    "plt.plot(history.history['val_loss'], label='Validation Loss')\n",
    "plt.title('Autoencoder Loss')\n",
    "plt.ylabel('Loss')\n",
    "plt.xlabel('Epoch')\n",
    "plt.legend(loc='upper right')\n",
    "plt.show()"
   ]
  },
  {
   "cell_type": "code",
   "execution_count": 33,
   "metadata": {},
   "outputs": [
    {
     "name": "stdout",
     "output_type": "stream",
     "text": [
      "\n",
      "Best Autoencoder Threshold: 0.3465\n",
      "Autoencoder - Precision: 0.9866, Recall: 0.7891, F1: 0.8769, AUC: 0.8931, Accuracy: 0.9535\n"
     ]
    },
    {
     "data": {
      "text/plain": [
       "(np.float64(0.9866342648845686),\n",
       " np.float64(0.7891156462585034),\n",
       " np.float64(0.8768898488120951),\n",
       " np.float64(0.8931395662958324))"
      ]
     },
     "execution_count": 33,
     "metadata": {},
     "output_type": "execute_result"
    }
   ],
   "source": [
    "# Function to compute reconstruction error\n",
    "def ae_reconstruction_error(model, X):\n",
    "    reconstructions = model.predict(X, verbose=0)\n",
    "    mse = np.mean(np.power(X - reconstructions, 2), axis=1)\n",
    "    return mse\n",
    "\n",
    "# Compute reconstruction errors for validation set\n",
    "ae_val_errors = ae_reconstruction_error(autoencoder, X_val)\n",
    "\n",
    "# Find the best threshold based on validation set\n",
    "best_ae_thresh = find_best_threshold(y_val, ae_val_errors)\n",
    "print(f\"\\nBest Autoencoder Threshold: {best_ae_thresh:.4f}\")\n",
    "\n",
    "# Predict on test set based on reconstruction error\n",
    "ae_test_errors = ae_reconstruction_error(autoencoder, X_test)\n",
    "ae_preds_test = (ae_test_errors > best_ae_thresh).astype(int)"
   ]
  },
  {
   "cell_type": "markdown",
   "metadata": {},
   "source": [
    "## Evaluation"
   ]
  },
  {
   "cell_type": "code",
   "execution_count": 34,
   "metadata": {},
   "outputs": [
    {
     "name": "stdout",
     "output_type": "stream",
     "text": [
      "\n",
      "Test Set Evaluation:\n",
      "Isolation Forest - Precision: 0.9698, Recall: 0.9971, F1: 0.9832, AUC: 0.9944, Accuracy: 0.9929\n",
      "LOF - Precision: 0.9316, Recall: 0.6220, F1: 0.7459, AUC: 0.8049, Accuracy: 0.9111\n",
      "Autoencoder - Precision: 0.9866, Recall: 0.7891, F1: 0.8769, AUC: 0.8931, Accuracy: 0.9535\n"
     ]
    },
    {
     "data": {
      "text/plain": [
       "(np.float64(0.9866342648845686),\n",
       " np.float64(0.7891156462585034),\n",
       " np.float64(0.8768898488120951),\n",
       " np.float64(0.8931395662958324))"
      ]
     },
     "execution_count": 34,
     "metadata": {},
     "output_type": "execute_result"
    }
   ],
   "source": [
    "def evaluate(y_true, y_pred, model_name=\"Model\"):\n",
    "    prec = precision_score(y_true, y_pred, zero_division=0)\n",
    "    rec = recall_score(y_true, y_pred, zero_division=0)\n",
    "    f1v = f1_score(y_true, y_pred, zero_division=0)\n",
    "    accuracy = accuracy_score(y_true, y_pred)\n",
    "    try:\n",
    "        auc = roc_auc_score(y_true, y_pred)\n",
    "    except ValueError:\n",
    "        auc = float('nan')  # If only one class is present in y_true\n",
    "    print(f\"{model_name} - Precision: {prec:.4f}, Recall: {rec:.4f}, F1: {f1v:.4f}, AUC: {auc:.4f}, Accuracy: {accuracy:.4f}\")\n",
    "    return prec, rec, f1v, auc\n",
    "\n",
    "print(\"\\nTest Set Evaluation:\")\n",
    "evaluate(y_test, iso_preds_test, model_name=\"Isolation Forest\")\n",
    "evaluate(y_test, lof_preds_test, model_name=\"LOF\")\n",
    "evaluate(y_test, ae_preds_test, model_name=\"Autoencoder\")\n"
   ]
  },
  {
   "cell_type": "code",
   "execution_count": 36,
   "metadata": {},
   "outputs": [
    {
     "data": {
      "text/plain": [
       "['wifi_iso_model.pkl']"
      ]
     },
     "execution_count": 36,
     "metadata": {},
     "output_type": "execute_result"
    }
   ],
   "source": [
    "# Save the model\n",
    "joblib.dump(iso, 'wifi_iso_model.pkl')"
   ]
  },
  {
   "cell_type": "code",
   "execution_count": null,
   "metadata": {},
   "outputs": [],
   "source": []
  }
 ],
 "metadata": {
  "kernelspec": {
   "display_name": ".venv",
   "language": "python",
   "name": "python3"
  },
  "language_info": {
   "codemirror_mode": {
    "name": "ipython",
    "version": 3
   },
   "file_extension": ".py",
   "mimetype": "text/x-python",
   "name": "python",
   "nbconvert_exporter": "python",
   "pygments_lexer": "ipython3",
   "version": "3.12.4"
  }
 },
 "nbformat": 4,
 "nbformat_minor": 2
}
