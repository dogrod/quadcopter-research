{
 "cells": [
  {
   "cell_type": "markdown",
   "metadata": {},
   "source": [
    "# Wi-Fi Network Security Threat Detection Using Machine Learning"
   ]
  },
  {
   "cell_type": "code",
   "execution_count": 1,
   "metadata": {},
   "outputs": [],
   "source": [
    "# Define the path to the pcap files and the output directory\n",
    "pcap_directory = \"../datasets/wifi\"\n",
    "output_directory = \"./model_output/wifi\""
   ]
  },
  {
   "cell_type": "code",
   "execution_count": 2,
   "metadata": {},
   "outputs": [],
   "source": [
    "import pandas as pd\n",
    "import numpy as np\n",
    "import matplotlib.pyplot as plt\n",
    "import seaborn as sns\n",
    "from scapy.utils import rdpcap\n",
    "from scapy.layers.inet import IP\n",
    "import joblib\n",
    "import warnings\n",
    "from datetime import datetime\n",
    "import os\n",
    "from scipy import stats\n",
    "\n",
    "from sklearn.ensemble import IsolationForest\n",
    "from sklearn.preprocessing import RobustScaler\n",
    "from sklearn.metrics import (accuracy_score, precision_score, recall_score,\n",
    "                           f1_score, roc_auc_score, precision_recall_curve,\n",
    "                           average_precision_score, confusion_matrix,\n",
    "                           roc_curve, auc, silhouette_score)\n",
    "from sklearn.covariance import EllipticEnvelope\n",
    "from sklearn.svm import OneClassSVM\n",
    "from sklearn.neighbors import LocalOutlierFactor\n",
    "from sklearn.decomposition import PCA\n",
    "\n",
    "warnings.filterwarnings('ignore')"
   ]
  },
  {
   "cell_type": "markdown",
   "metadata": {},
   "source": [
    "## 1. Load PCAP Files"
   ]
  },
  {
   "cell_type": "code",
   "execution_count": 3,
   "metadata": {},
   "outputs": [
    {
     "name": "stdout",
     "output_type": "stream",
     "text": [
      "Index(['frame.time_epoch', 'frame.len', 'frame.protocols', 'wlan.fc.type',\n",
      "       'wlan.fc.subtype', 'wlan.sa', 'wlan.da', 'wlan.bssid',\n",
      "       'radiotap.channel.freq', 'radiotap.dbm_antsignal', 'radiotap.datarate',\n",
      "       'ip.src', 'ip.dst', 'tcp.srcport', 'tcp.dstport', 'udp.srcport',\n",
      "       'udp.dstport', 'tcp.flags', 'tcp.len', 'udp.length', 'tcp.stream',\n",
      "       'tcp.seq', 'tcp.ack', '_ws.col.protocol', 'label'],\n",
      "      dtype='object')\n"
     ]
    }
   ],
   "source": [
    "# Load csv file\n",
    "raw_df = pd.read_csv('../datasets/wifi/output_1201_new.csv')\n",
    "synthetic_df = pd.read_csv('../datasets/synthetic_wifi_new.csv')\n",
    "\n",
    "# Merge two dataframes\n",
    "df = pd.concat([raw_df, synthetic_df], ignore_index=True)\n",
    "\n",
    "print(df.columns)"
   ]
  },
  {
   "cell_type": "code",
   "execution_count": 4,
   "metadata": {},
   "outputs": [
    {
     "name": "stdout",
     "output_type": "stream",
     "text": [
      "(14427149, 25)\n",
      "   frame.time_epoch  frame.len              frame.protocols  wlan.fc.type  \\\n",
      "0      1.729577e+09       1363  eth:ethertype:ipv6:udp:mdns           NaN   \n",
      "1      1.729577e+09         66         eth:ethertype:ip:tcp           NaN   \n",
      "2      1.729577e+09         54         eth:ethertype:ip:tcp           NaN   \n",
      "3      1.729577e+09         42            eth:ethertype:arp           NaN   \n",
      "4      1.729577e+09         83    eth:ethertype:ip:udp:data           NaN   \n",
      "\n",
      "   wlan.fc.subtype wlan.sa wlan.da wlan.bssid  radiotap.channel.freq  \\\n",
      "0              NaN     NaN     NaN        NaN                    NaN   \n",
      "1              NaN     NaN     NaN        NaN                    NaN   \n",
      "2              NaN     NaN     NaN        NaN                    NaN   \n",
      "3              NaN     NaN     NaN        NaN                    NaN   \n",
      "4              NaN     NaN     NaN        NaN                    NaN   \n",
      "\n",
      "   radiotap.dbm_antsignal  ...  udp.srcport udp.dstport tcp.flags  tcp.len  \\\n",
      "0                     NaN  ...       5353.0      5353.0       NaN      NaN   \n",
      "1                     NaN  ...          NaN         NaN    0x0010      0.0   \n",
      "2                     NaN  ...          NaN         NaN    0x0014      0.0   \n",
      "3                     NaN  ...          NaN         NaN       NaN      NaN   \n",
      "4                     NaN  ...      58578.0      7844.0       NaN      NaN   \n",
      "\n",
      "   udp.length  tcp.stream  tcp.seq tcp.ack  _ws.col.protocol  label  \n",
      "0      1309.0         NaN      NaN     NaN              MDNS    NaN  \n",
      "1         NaN         0.0      1.0     1.0               TCP    NaN  \n",
      "2         NaN         1.0      1.0     1.0               TCP    NaN  \n",
      "3         NaN         NaN      NaN     NaN               ARP    NaN  \n",
      "4        49.0         NaN      NaN     NaN               UDP    NaN  \n",
      "\n",
      "[5 rows x 25 columns]\n",
      "Index(['frame.time_epoch', 'frame.len', 'frame.protocols', 'wlan.fc.type',\n",
      "       'wlan.fc.subtype', 'wlan.sa', 'wlan.da', 'wlan.bssid',\n",
      "       'radiotap.channel.freq', 'radiotap.dbm_antsignal', 'radiotap.datarate',\n",
      "       'ip.src', 'ip.dst', 'tcp.srcport', 'tcp.dstport', 'udp.srcport',\n",
      "       'udp.dstport', 'tcp.flags', 'tcp.len', 'udp.length', 'tcp.stream',\n",
      "       'tcp.seq', 'tcp.ack', '_ws.col.protocol', 'label'],\n",
      "      dtype='object')\n"
     ]
    }
   ],
   "source": [
    "print(df.shape)\n",
    "print(df.head())\n",
    "print(df.columns)"
   ]
  },
  {
   "cell_type": "code",
   "execution_count": 5,
   "metadata": {},
   "outputs": [
    {
     "name": "stdout",
     "output_type": "stream",
     "text": [
      "frame.time_epoch                 0\n",
      "frame.len                        0\n",
      "frame.protocols                  0\n",
      "wlan.fc.type              14427144\n",
      "wlan.fc.subtype           14427144\n",
      "wlan.sa                   14427144\n",
      "wlan.da                   14427144\n",
      "wlan.bssid                14427144\n",
      "radiotap.channel.freq     14427149\n",
      "radiotap.dbm_antsignal    14427149\n",
      "radiotap.datarate         14427149\n",
      "ip.src                      381880\n",
      "ip.dst                      381880\n",
      "tcp.srcport                1076691\n",
      "tcp.dstport                1076691\n",
      "udp.srcport               13396535\n",
      "udp.dstport               13396535\n",
      "tcp.flags                  1076691\n",
      "tcp.len                    1077317\n",
      "udp.length                13396535\n",
      "tcp.stream                 1076691\n",
      "tcp.seq                    1076691\n",
      "tcp.ack                    1076691\n",
      "_ws.col.protocol                 0\n",
      "label                     10551408\n",
      "dtype: int64\n"
     ]
    }
   ],
   "source": [
    "# Display NaN amount of each column\n",
    "print(df.isna().sum())"
   ]
  },
  {
   "cell_type": "code",
   "execution_count": 6,
   "metadata": {},
   "outputs": [],
   "source": [
    "# Drop NaN columns including 99% NaN columns\n",
    "columns_to_drop = [\n",
    "    'wlan.fc.type', 'wlan.fc.subtype', 'wlan.sa', \n",
    "    'wlan.da', 'wlan.bssid', 'radiotap.channel.freq', \n",
    "    'radiotap.dbm_antsignal', 'radiotap.datarate'\n",
    "]\n",
    "df = df.drop(columns=columns_to_drop)\n"
   ]
  },
  {
   "cell_type": "code",
   "execution_count": 7,
   "metadata": {},
   "outputs": [
    {
     "name": "stdout",
     "output_type": "stream",
     "text": [
      "ip.src           381880\n",
      "ip.dst           381880\n",
      "tcp.srcport     1076691\n",
      "tcp.dstport     1076691\n",
      "udp.srcport    13396535\n",
      "udp.dstport    13396535\n",
      "tcp.flags       1076691\n",
      "tcp.len         1077317\n",
      "udp.length     13396535\n",
      "tcp.stream      1076691\n",
      "tcp.seq         1076691\n",
      "tcp.ack         1076691\n",
      "label          10551408\n",
      "dtype: int64\n"
     ]
    }
   ],
   "source": [
    "missing_values = df.isnull().sum()\n",
    "print(missing_values[missing_values > 0])"
   ]
  },
  {
   "cell_type": "code",
   "execution_count": 8,
   "metadata": {},
   "outputs": [],
   "source": [
    "# df = df.dropna()"
   ]
  },
  {
   "cell_type": "code",
   "execution_count": 9,
   "metadata": {},
   "outputs": [
    {
     "data": {
      "text/plain": [
       "Index(['frame.time_epoch', 'frame.len', 'frame.protocols', 'ip.src', 'ip.dst',\n",
       "       'tcp.srcport', 'tcp.dstport', 'udp.srcport', 'udp.dstport', 'tcp.flags',\n",
       "       'tcp.len', 'udp.length', 'tcp.stream', 'tcp.seq', 'tcp.ack',\n",
       "       '_ws.col.protocol', 'label'],\n",
       "      dtype='object')"
      ]
     },
     "execution_count": 9,
     "metadata": {},
     "output_type": "execute_result"
    }
   ],
   "source": [
    "df.columns"
   ]
  },
  {
   "cell_type": "code",
   "execution_count": 10,
   "metadata": {},
   "outputs": [
    {
     "ename": "",
     "evalue": "",
     "output_type": "error",
     "traceback": [
      "\u001b[1;31mThe Kernel crashed while executing code in the current cell or a previous cell. \n",
      "\u001b[1;31mPlease review the code in the cell(s) to identify a possible cause of the failure. \n",
      "\u001b[1;31mClick <a href='https://aka.ms/vscodeJupyterKernelCrash'>here</a> for more info. \n",
      "\u001b[1;31mView Jupyter <a href='command:jupyter.viewOutput'>log</a> for further details."
     ]
    }
   ],
   "source": [
    "from sklearn.preprocessing import OneHotEncoder, LabelEncoder\n",
    "\n",
    "# Example for low cardinality categorical features\n",
    "categorical_features = ['frame.protocols', '_ws.col.protocol']\n",
    "df = pd.get_dummies(df, columns=categorical_features, drop_first=True)\n",
    "\n",
    "# Alternatively, for high cardinality, use label encoding\n",
    "label_encoder = LabelEncoder()\n",
    "df['ip.src'] = label_encoder.fit_transform(df['ip.src'])\n",
    "df['ip.dst'] = label_encoder.fit_transform(df['ip.dst'])"
   ]
  },
  {
   "cell_type": "code",
   "execution_count": 15,
   "metadata": {},
   "outputs": [
    {
     "data": {
      "text/plain": [
       "(0, 15)"
      ]
     },
     "execution_count": 15,
     "metadata": {},
     "output_type": "execute_result"
    }
   ],
   "source": [
    "df.shape"
   ]
  },
  {
   "cell_type": "markdown",
   "metadata": {},
   "source": [
    "## Feature Engineering"
   ]
  },
  {
   "cell_type": "markdown",
   "metadata": {},
   "source": [
    "## Exploratory Data Analysis (EDA)"
   ]
  },
  {
   "cell_type": "markdown",
   "metadata": {},
   "source": [
    "## Model Training"
   ]
  },
  {
   "cell_type": "markdown",
   "metadata": {},
   "source": [
    "## 6. Model Evaluation"
   ]
  },
  {
   "cell_type": "markdown",
   "metadata": {},
   "source": [
    "## 7. Noise and Drift Tests\n"
   ]
  },
  {
   "cell_type": "markdown",
   "metadata": {},
   "source": []
  }
 ],
 "metadata": {
  "kernelspec": {
   "display_name": ".env",
   "language": "python",
   "name": "python3"
  },
  "language_info": {
   "codemirror_mode": {
    "name": "ipython",
    "version": 3
   },
   "file_extension": ".py",
   "mimetype": "text/x-python",
   "name": "python",
   "nbconvert_exporter": "python",
   "pygments_lexer": "ipython3",
   "version": "3.11.2"
  }
 },
 "nbformat": 4,
 "nbformat_minor": 2
}
